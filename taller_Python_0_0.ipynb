{
  "nbformat": 4,
  "nbformat_minor": 0,
  "metadata": {
    "colab": {
      "provenance": [],
      "authorship_tag": "ABX9TyPWH76dMjmCjrt3JlTYvlPT",
      "include_colab_link": true
    },
    "kernelspec": {
      "name": "python3",
      "display_name": "Python 3"
    },
    "language_info": {
      "name": "python"
    }
  },
  "cells": [
    {
      "cell_type": "markdown",
      "metadata": {
        "id": "view-in-github",
        "colab_type": "text"
      },
      "source": [
        "<a href=\"https://colab.research.google.com/github/SamSchloss/Nuevo-IO1-Grupo-01/blob/main/taller_Python_0_0.ipynb\" target=\"_parent\"><img src=\"https://colab.research.google.com/assets/colab-badge.svg\" alt=\"Open In Colab\"/></a>"
      ]
    },
    {
      "cell_type": "code",
      "execution_count": 2,
      "metadata": {
        "colab": {
          "base_uri": "https://localhost:8080/"
        },
        "id": "gL_LqA2AmAPM",
        "outputId": "21e19223-8e42-4838-f69d-6d10babacde4"
      },
      "outputs": [
        {
          "output_type": "stream",
          "name": "stdout",
          "text": [
            "Collecting tutormagic\n",
            "  Downloading tutormagic-0.3.1-py3-none-any.whl (6.3 kB)\n",
            "Collecting jupyter>=1.0 (from tutormagic)\n",
            "  Downloading jupyter-1.0.0-py2.py3-none-any.whl (2.7 kB)\n",
            "Requirement already satisfied: notebook in /usr/local/lib/python3.10/dist-packages (from jupyter>=1.0->tutormagic) (6.5.5)\n",
            "Collecting qtconsole (from jupyter>=1.0->tutormagic)\n",
            "  Downloading qtconsole-5.4.3-py3-none-any.whl (121 kB)\n",
            "\u001b[?25l     \u001b[90m━━━━━━━━━━━━━━━━━━━━━━━━━━━━━━━━━━━━━━━━\u001b[0m \u001b[32m0.0/121.9 kB\u001b[0m \u001b[31m?\u001b[0m eta \u001b[36m-:--:--\u001b[0m\r\u001b[2K     \u001b[90m━━━━━━━━━━━━━━━━━━━━━━━━━━━━━━━━━━━━━━━\u001b[0m \u001b[32m121.9/121.9 kB\u001b[0m \u001b[31m5.2 MB/s\u001b[0m eta \u001b[36m0:00:00\u001b[0m\n",
            "\u001b[?25hRequirement already satisfied: jupyter-console in /usr/local/lib/python3.10/dist-packages (from jupyter>=1.0->tutormagic) (6.1.0)\n",
            "Requirement already satisfied: nbconvert in /usr/local/lib/python3.10/dist-packages (from jupyter>=1.0->tutormagic) (6.5.4)\n",
            "Requirement already satisfied: ipykernel in /usr/local/lib/python3.10/dist-packages (from jupyter>=1.0->tutormagic) (5.5.6)\n",
            "Requirement already satisfied: ipywidgets in /usr/local/lib/python3.10/dist-packages (from jupyter>=1.0->tutormagic) (7.7.1)\n",
            "Requirement already satisfied: ipython-genutils in /usr/local/lib/python3.10/dist-packages (from ipykernel->jupyter>=1.0->tutormagic) (0.2.0)\n",
            "Requirement already satisfied: ipython>=5.0.0 in /usr/local/lib/python3.10/dist-packages (from ipykernel->jupyter>=1.0->tutormagic) (7.34.0)\n",
            "Requirement already satisfied: traitlets>=4.1.0 in /usr/local/lib/python3.10/dist-packages (from ipykernel->jupyter>=1.0->tutormagic) (5.7.1)\n",
            "Requirement already satisfied: jupyter-client in /usr/local/lib/python3.10/dist-packages (from ipykernel->jupyter>=1.0->tutormagic) (6.1.12)\n",
            "Requirement already satisfied: tornado>=4.2 in /usr/local/lib/python3.10/dist-packages (from ipykernel->jupyter>=1.0->tutormagic) (6.3.2)\n",
            "Requirement already satisfied: widgetsnbextension~=3.6.0 in /usr/local/lib/python3.10/dist-packages (from ipywidgets->jupyter>=1.0->tutormagic) (3.6.5)\n",
            "Requirement already satisfied: jupyterlab-widgets>=1.0.0 in /usr/local/lib/python3.10/dist-packages (from ipywidgets->jupyter>=1.0->tutormagic) (3.0.8)\n",
            "Requirement already satisfied: prompt-toolkit!=3.0.0,!=3.0.1,<3.1.0,>=2.0.0 in /usr/local/lib/python3.10/dist-packages (from jupyter-console->jupyter>=1.0->tutormagic) (3.0.39)\n",
            "Requirement already satisfied: pygments in /usr/local/lib/python3.10/dist-packages (from jupyter-console->jupyter>=1.0->tutormagic) (2.16.1)\n",
            "Requirement already satisfied: lxml in /usr/local/lib/python3.10/dist-packages (from nbconvert->jupyter>=1.0->tutormagic) (4.9.3)\n",
            "Requirement already satisfied: beautifulsoup4 in /usr/local/lib/python3.10/dist-packages (from nbconvert->jupyter>=1.0->tutormagic) (4.11.2)\n",
            "Requirement already satisfied: bleach in /usr/local/lib/python3.10/dist-packages (from nbconvert->jupyter>=1.0->tutormagic) (6.0.0)\n",
            "Requirement already satisfied: defusedxml in /usr/local/lib/python3.10/dist-packages (from nbconvert->jupyter>=1.0->tutormagic) (0.7.1)\n",
            "Requirement already satisfied: entrypoints>=0.2.2 in /usr/local/lib/python3.10/dist-packages (from nbconvert->jupyter>=1.0->tutormagic) (0.4)\n",
            "Requirement already satisfied: jinja2>=3.0 in /usr/local/lib/python3.10/dist-packages (from nbconvert->jupyter>=1.0->tutormagic) (3.1.2)\n",
            "Requirement already satisfied: jupyter-core>=4.7 in /usr/local/lib/python3.10/dist-packages (from nbconvert->jupyter>=1.0->tutormagic) (5.3.1)\n",
            "Requirement already satisfied: jupyterlab-pygments in /usr/local/lib/python3.10/dist-packages (from nbconvert->jupyter>=1.0->tutormagic) (0.2.2)\n",
            "Requirement already satisfied: MarkupSafe>=2.0 in /usr/local/lib/python3.10/dist-packages (from nbconvert->jupyter>=1.0->tutormagic) (2.1.3)\n",
            "Requirement already satisfied: mistune<2,>=0.8.1 in /usr/local/lib/python3.10/dist-packages (from nbconvert->jupyter>=1.0->tutormagic) (0.8.4)\n",
            "Requirement already satisfied: nbclient>=0.5.0 in /usr/local/lib/python3.10/dist-packages (from nbconvert->jupyter>=1.0->tutormagic) (0.8.0)\n",
            "Requirement already satisfied: nbformat>=5.1 in /usr/local/lib/python3.10/dist-packages (from nbconvert->jupyter>=1.0->tutormagic) (5.9.2)\n",
            "Requirement already satisfied: packaging in /usr/local/lib/python3.10/dist-packages (from nbconvert->jupyter>=1.0->tutormagic) (23.1)\n",
            "Requirement already satisfied: pandocfilters>=1.4.1 in /usr/local/lib/python3.10/dist-packages (from nbconvert->jupyter>=1.0->tutormagic) (1.5.0)\n",
            "Requirement already satisfied: tinycss2 in /usr/local/lib/python3.10/dist-packages (from nbconvert->jupyter>=1.0->tutormagic) (1.2.1)\n",
            "Requirement already satisfied: pyzmq<25,>=17 in /usr/local/lib/python3.10/dist-packages (from notebook->jupyter>=1.0->tutormagic) (23.2.1)\n",
            "Requirement already satisfied: argon2-cffi in /usr/local/lib/python3.10/dist-packages (from notebook->jupyter>=1.0->tutormagic) (23.1.0)\n",
            "Requirement already satisfied: nest-asyncio>=1.5 in /usr/local/lib/python3.10/dist-packages (from notebook->jupyter>=1.0->tutormagic) (1.5.7)\n",
            "Requirement already satisfied: Send2Trash>=1.8.0 in /usr/local/lib/python3.10/dist-packages (from notebook->jupyter>=1.0->tutormagic) (1.8.2)\n",
            "Requirement already satisfied: terminado>=0.8.3 in /usr/local/lib/python3.10/dist-packages (from notebook->jupyter>=1.0->tutormagic) (0.17.1)\n",
            "Requirement already satisfied: prometheus-client in /usr/local/lib/python3.10/dist-packages (from notebook->jupyter>=1.0->tutormagic) (0.17.1)\n",
            "Requirement already satisfied: nbclassic>=0.4.7 in /usr/local/lib/python3.10/dist-packages (from notebook->jupyter>=1.0->tutormagic) (1.0.0)\n",
            "Collecting qtpy>=2.0.1 (from qtconsole->jupyter>=1.0->tutormagic)\n",
            "  Downloading QtPy-2.3.1-py3-none-any.whl (84 kB)\n",
            "\u001b[2K     \u001b[90m━━━━━━━━━━━━━━━━━━━━━━━━━━━━━━━━━━━━━━━━\u001b[0m \u001b[32m84.9/84.9 kB\u001b[0m \u001b[31m9.7 MB/s\u001b[0m eta \u001b[36m0:00:00\u001b[0m\n",
            "\u001b[?25hRequirement already satisfied: setuptools>=18.5 in /usr/local/lib/python3.10/dist-packages (from ipython>=5.0.0->ipykernel->jupyter>=1.0->tutormagic) (67.7.2)\n",
            "Collecting jedi>=0.16 (from ipython>=5.0.0->ipykernel->jupyter>=1.0->tutormagic)\n",
            "  Downloading jedi-0.19.0-py2.py3-none-any.whl (1.6 MB)\n",
            "\u001b[2K     \u001b[90m━━━━━━━━━━━━━━━━━━━━━━━━━━━━━━━━━━━━━━━━\u001b[0m \u001b[32m1.6/1.6 MB\u001b[0m \u001b[31m37.5 MB/s\u001b[0m eta \u001b[36m0:00:00\u001b[0m\n",
            "\u001b[?25hRequirement already satisfied: decorator in /usr/local/lib/python3.10/dist-packages (from ipython>=5.0.0->ipykernel->jupyter>=1.0->tutormagic) (4.4.2)\n",
            "Requirement already satisfied: pickleshare in /usr/local/lib/python3.10/dist-packages (from ipython>=5.0.0->ipykernel->jupyter>=1.0->tutormagic) (0.7.5)\n",
            "Requirement already satisfied: backcall in /usr/local/lib/python3.10/dist-packages (from ipython>=5.0.0->ipykernel->jupyter>=1.0->tutormagic) (0.2.0)\n",
            "Requirement already satisfied: matplotlib-inline in /usr/local/lib/python3.10/dist-packages (from ipython>=5.0.0->ipykernel->jupyter>=1.0->tutormagic) (0.1.6)\n",
            "Requirement already satisfied: pexpect>4.3 in /usr/local/lib/python3.10/dist-packages (from ipython>=5.0.0->ipykernel->jupyter>=1.0->tutormagic) (4.8.0)\n",
            "Requirement already satisfied: python-dateutil>=2.1 in /usr/local/lib/python3.10/dist-packages (from jupyter-client->ipykernel->jupyter>=1.0->tutormagic) (2.8.2)\n",
            "Requirement already satisfied: platformdirs>=2.5 in /usr/local/lib/python3.10/dist-packages (from jupyter-core>=4.7->nbconvert->jupyter>=1.0->tutormagic) (3.10.0)\n",
            "Requirement already satisfied: jupyter-server>=1.8 in /usr/local/lib/python3.10/dist-packages (from nbclassic>=0.4.7->notebook->jupyter>=1.0->tutormagic) (1.24.0)\n",
            "Requirement already satisfied: notebook-shim>=0.2.3 in /usr/local/lib/python3.10/dist-packages (from nbclassic>=0.4.7->notebook->jupyter>=1.0->tutormagic) (0.2.3)\n",
            "Requirement already satisfied: fastjsonschema in /usr/local/lib/python3.10/dist-packages (from nbformat>=5.1->nbconvert->jupyter>=1.0->tutormagic) (2.18.0)\n",
            "Requirement already satisfied: jsonschema>=2.6 in /usr/local/lib/python3.10/dist-packages (from nbformat>=5.1->nbconvert->jupyter>=1.0->tutormagic) (4.19.0)\n",
            "Requirement already satisfied: wcwidth in /usr/local/lib/python3.10/dist-packages (from prompt-toolkit!=3.0.0,!=3.0.1,<3.1.0,>=2.0.0->jupyter-console->jupyter>=1.0->tutormagic) (0.2.6)\n",
            "Requirement already satisfied: ptyprocess in /usr/local/lib/python3.10/dist-packages (from terminado>=0.8.3->notebook->jupyter>=1.0->tutormagic) (0.7.0)\n",
            "Requirement already satisfied: argon2-cffi-bindings in /usr/local/lib/python3.10/dist-packages (from argon2-cffi->notebook->jupyter>=1.0->tutormagic) (21.2.0)\n",
            "Requirement already satisfied: soupsieve>1.2 in /usr/local/lib/python3.10/dist-packages (from beautifulsoup4->nbconvert->jupyter>=1.0->tutormagic) (2.4.1)\n",
            "Requirement already satisfied: six>=1.9.0 in /usr/local/lib/python3.10/dist-packages (from bleach->nbconvert->jupyter>=1.0->tutormagic) (1.16.0)\n",
            "Requirement already satisfied: webencodings in /usr/local/lib/python3.10/dist-packages (from bleach->nbconvert->jupyter>=1.0->tutormagic) (0.5.1)\n",
            "Requirement already satisfied: parso<0.9.0,>=0.8.3 in /usr/local/lib/python3.10/dist-packages (from jedi>=0.16->ipython>=5.0.0->ipykernel->jupyter>=1.0->tutormagic) (0.8.3)\n",
            "Requirement already satisfied: attrs>=22.2.0 in /usr/local/lib/python3.10/dist-packages (from jsonschema>=2.6->nbformat>=5.1->nbconvert->jupyter>=1.0->tutormagic) (23.1.0)\n",
            "Requirement already satisfied: jsonschema-specifications>=2023.03.6 in /usr/local/lib/python3.10/dist-packages (from jsonschema>=2.6->nbformat>=5.1->nbconvert->jupyter>=1.0->tutormagic) (2023.7.1)\n",
            "Requirement already satisfied: referencing>=0.28.4 in /usr/local/lib/python3.10/dist-packages (from jsonschema>=2.6->nbformat>=5.1->nbconvert->jupyter>=1.0->tutormagic) (0.30.2)\n",
            "Requirement already satisfied: rpds-py>=0.7.1 in /usr/local/lib/python3.10/dist-packages (from jsonschema>=2.6->nbformat>=5.1->nbconvert->jupyter>=1.0->tutormagic) (0.9.2)\n",
            "Requirement already satisfied: anyio<4,>=3.1.0 in /usr/local/lib/python3.10/dist-packages (from jupyter-server>=1.8->nbclassic>=0.4.7->notebook->jupyter>=1.0->tutormagic) (3.7.1)\n",
            "Requirement already satisfied: websocket-client in /usr/local/lib/python3.10/dist-packages (from jupyter-server>=1.8->nbclassic>=0.4.7->notebook->jupyter>=1.0->tutormagic) (1.6.1)\n",
            "Requirement already satisfied: cffi>=1.0.1 in /usr/local/lib/python3.10/dist-packages (from argon2-cffi-bindings->argon2-cffi->notebook->jupyter>=1.0->tutormagic) (1.15.1)\n",
            "Requirement already satisfied: idna>=2.8 in /usr/local/lib/python3.10/dist-packages (from anyio<4,>=3.1.0->jupyter-server>=1.8->nbclassic>=0.4.7->notebook->jupyter>=1.0->tutormagic) (3.4)\n",
            "Requirement already satisfied: sniffio>=1.1 in /usr/local/lib/python3.10/dist-packages (from anyio<4,>=3.1.0->jupyter-server>=1.8->nbclassic>=0.4.7->notebook->jupyter>=1.0->tutormagic) (1.3.0)\n",
            "Requirement already satisfied: exceptiongroup in /usr/local/lib/python3.10/dist-packages (from anyio<4,>=3.1.0->jupyter-server>=1.8->nbclassic>=0.4.7->notebook->jupyter>=1.0->tutormagic) (1.1.3)\n",
            "Requirement already satisfied: pycparser in /usr/local/lib/python3.10/dist-packages (from cffi>=1.0.1->argon2-cffi-bindings->argon2-cffi->notebook->jupyter>=1.0->tutormagic) (2.21)\n",
            "Installing collected packages: qtpy, jedi, qtconsole, jupyter, tutormagic\n",
            "Successfully installed jedi-0.19.0 jupyter-1.0.0 qtconsole-5.4.3 qtpy-2.3.1 tutormagic-0.3.1\n"
          ]
        }
      ],
      "source": [
        "!pip install tutormagic\n",
        "\n",
        "%load_ext tutormagic"
      ]
    },
    {
      "cell_type": "code",
      "source": [
        "%%tutor --lang python3 -s"
      ],
      "metadata": {
        "colab": {
          "base_uri": "https://localhost:8080/",
          "height": 426
        },
        "id": "0CrP_ejAoF_J",
        "outputId": "c2f3dca0-daf3-4c8b-effc-e46c05224703"
      },
      "execution_count": 3,
      "outputs": [
        {
          "output_type": "stream",
          "name": "stderr",
          "text": [
            "/usr/local/lib/python3.10/dist-packages/ipykernel/ipkernel.py:283: DeprecationWarning: `should_run_async` will not call `transform_cell` automatically in the future. Please pass the result to `transformed_cell` argument and any exception that happen during thetransform in `preprocessing_exc_tuple` in IPython 7.17 and above.\n",
            "  and should_run_async(code)\n"
          ]
        },
        {
          "output_type": "display_data",
          "data": {
            "text/plain": [
              "<IPython.lib.display.IFrame at 0x7e373485e770>"
            ],
            "text/html": [
              "\n",
              "        <iframe\n",
              "            width=\"100%\"\n",
              "            height=\"350\"\n",
              "            src=\"https://pythontutor.com/iframe-embed.html#code=%20&origin=opt-frontend.js&cumulative=false&heapPrimitives=false&textReferences=false&curInstr=0&&verticalStack=false&py=3&rawInputLstJSON=%5B%5D&codeDivWidth=50%25&codeDivHeight=100%25\"\n",
              "            frameborder=\"0\"\n",
              "            allowfullscreen\n",
              "            \n",
              "        ></iframe>\n",
              "        "
            ]
          },
          "metadata": {}
        }
      ]
    },
    {
      "cell_type": "code",
      "source": [
        "%%tutor --lang python3 -s\n",
        "# ejercicio de prueba de escritorio\n",
        "numero_1 = 9\n",
        "print(\"Mostrar el valor actual de numero_1\", numero_1)\n",
        "\n",
        "numero_2 = 5\n",
        "print(\"Mostrar el producto de numero_1 por numero_2\", numero_1 * numero_2)\n",
        "suma = numero_1 + numero_2\n",
        "div = suma / 4\n",
        "numero_1 = numero_1 - 2\n",
        "nuevo = numero_1 + (suma * 3)\n",
        "final = nuevo * (5 + numero_1)"
      ],
      "metadata": {
        "colab": {
          "base_uri": "https://localhost:8080/",
          "height": 426
        },
        "id": "1r6L625Oo2iu",
        "outputId": "7f8e12a1-fbc8-45ab-95b2-4b3573c071f4"
      },
      "execution_count": 6,
      "outputs": [
        {
          "output_type": "stream",
          "name": "stderr",
          "text": [
            "/usr/local/lib/python3.10/dist-packages/ipykernel/ipkernel.py:283: DeprecationWarning: `should_run_async` will not call `transform_cell` automatically in the future. Please pass the result to `transformed_cell` argument and any exception that happen during thetransform in `preprocessing_exc_tuple` in IPython 7.17 and above.\n",
            "  and should_run_async(code)\n"
          ]
        },
        {
          "output_type": "display_data",
          "data": {
            "text/plain": [
              "<IPython.lib.display.IFrame at 0x7e373485fca0>"
            ],
            "text/html": [
              "\n",
              "        <iframe\n",
              "            width=\"100%\"\n",
              "            height=\"350\"\n",
              "            src=\"https://pythontutor.com/iframe-embed.html#code=%23%20ejercicio%20de%20prueba%20de%20escritorio%0Anumero_1%20%3D%209%0Aprint%28%22Mostrar%20el%20valor%20actual%20de%20numero_1%22%2C%20numero_1%29%0A%0Anumero_2%20%3D%205%0Aprint%28%22Mostrar%20el%20producto%20de%20numero_1%20por%20numero_2%22%2C%20numero_1%20%2A%20numero_2%29%0Asuma%20%3D%20numero_1%20%2B%20numero_2%0Adiv%20%3D%20suma%20/%204%0Anumero_1%20%3D%20numero_1%20-%202%0Anuevo%20%3D%20numero_1%20%2B%20%28suma%20%2A%203%29%0Afinal%20%3D%20nuevo%20%2A%20%285%20%2B%20numero_1%29%0A&origin=opt-frontend.js&cumulative=false&heapPrimitives=false&textReferences=false&curInstr=0&&verticalStack=false&py=3&rawInputLstJSON=%5B%5D&codeDivWidth=50%25&codeDivHeight=100%25\"\n",
              "            frameborder=\"0\"\n",
              "            allowfullscreen\n",
              "            \n",
              "        ></iframe>\n",
              "        "
            ]
          },
          "metadata": {}
        }
      ]
    },
    {
      "cell_type": "code",
      "source": [
        "%%tutor --lang python3 -s\n",
        "##### calcular área de un rectángulo #####\n",
        "base = float(input(\"la base del rectángulo es:\"))\n",
        "altura = float(input(\"la altura del rectángulo es:\"))\n",
        "\n",
        "area = base * altura\n",
        "print(\"el área del rectángulo es:\", area)\n",
        "\n",
        "print(\"aproximado a 3 decimales:\", \"%.3f\"% area)"
      ],
      "metadata": {
        "colab": {
          "base_uri": "https://localhost:8080/",
          "height": 426
        },
        "id": "FLUuWWPHtuK_",
        "outputId": "f6d8b4c6-0b4a-4659-b6f8-6dcc73f54c71"
      },
      "execution_count": 20,
      "outputs": [
        {
          "output_type": "stream",
          "name": "stderr",
          "text": [
            "/usr/local/lib/python3.10/dist-packages/ipykernel/ipkernel.py:283: DeprecationWarning: `should_run_async` will not call `transform_cell` automatically in the future. Please pass the result to `transformed_cell` argument and any exception that happen during thetransform in `preprocessing_exc_tuple` in IPython 7.17 and above.\n",
            "  and should_run_async(code)\n"
          ]
        },
        {
          "output_type": "display_data",
          "data": {
            "text/plain": [
              "<IPython.lib.display.IFrame at 0x7e373485e0b0>"
            ],
            "text/html": [
              "\n",
              "        <iframe\n",
              "            width=\"100%\"\n",
              "            height=\"350\"\n",
              "            src=\"https://pythontutor.com/iframe-embed.html#code=%23%23%23%23%23%20calcular%20%C3%A1rea%20de%20un%20rect%C3%A1ngulo%20%23%23%23%23%23%0Abase%20%3D%20float%28input%28%22la%20base%20del%20rect%C3%A1ngulo%20es%3A%22%29%29%0Aaltura%20%3D%20float%28input%28%22la%20altura%20del%20rect%C3%A1ngulo%20es%3A%22%29%29%0A%0Aarea%20%3D%20base%20%2A%20altura%0Aprint%28%22el%20%C3%A1rea%20del%20rect%C3%A1ngulo%20es%3A%22%2C%20area%29%0A%0Aprint%28%22aproximado%20a%203%20decimales%3A%22%2C%20%22%25.3f%22%25%20area%29%0A&origin=opt-frontend.js&cumulative=false&heapPrimitives=false&textReferences=false&curInstr=0&&verticalStack=false&py=3&rawInputLstJSON=%5B%5D&codeDivWidth=50%25&codeDivHeight=100%25\"\n",
              "            frameborder=\"0\"\n",
              "            allowfullscreen\n",
              "            \n",
              "        ></iframe>\n",
              "        "
            ]
          },
          "metadata": {}
        }
      ]
    },
    {
      "cell_type": "code",
      "source": [
        "### listas ####\n",
        "%%tutor --lang python3 -s\n",
        "\n",
        "### lista 1 ###\n",
        "datos = [\"samuel\", \"castillo\", 1021343567, 3193459721, \"dirección\", \"Medellín\"]\n",
        "\n",
        "### mostrar contenidos de la lista ###\n",
        "print(\"la lista es: \", datos)\n",
        "\n",
        "### mostrar nombre ###\n",
        "print(\"el nombre es:\", datos[0], datos[1])\n",
        "\n",
        "### mostrar dirección ###\n",
        "print(\"la dirección es:\", datos[4])"
      ],
      "metadata": {
        "colab": {
          "base_uri": "https://localhost:8080/",
          "height": 426
        },
        "id": "tLr0M9XXyUta",
        "outputId": "884dce04-e282-4d17-e983-3b24a321295c"
      },
      "execution_count": 22,
      "outputs": [
        {
          "output_type": "stream",
          "name": "stderr",
          "text": [
            "/usr/local/lib/python3.10/dist-packages/ipykernel/ipkernel.py:283: DeprecationWarning: `should_run_async` will not call `transform_cell` automatically in the future. Please pass the result to `transformed_cell` argument and any exception that happen during thetransform in `preprocessing_exc_tuple` in IPython 7.17 and above.\n",
            "  and should_run_async(code)\n"
          ]
        },
        {
          "output_type": "display_data",
          "data": {
            "text/plain": [
              "<IPython.lib.display.IFrame at 0x7e373485d1e0>"
            ],
            "text/html": [
              "\n",
              "        <iframe\n",
              "            width=\"100%\"\n",
              "            height=\"350\"\n",
              "            src=\"https://pythontutor.com/iframe-embed.html#code=%0A%23%23%23%20lista%201%20%23%23%23%0Adatos%20%3D%20%5B%22samuel%22%2C%20%22castillo%22%2C%201021343567%2C%203193459721%2C%20%22direcci%C3%B3n%22%2C%20%22Medell%C3%ADn%22%5D%0A%0A%23%23%23%20mostrar%20contenidos%20de%20la%20lista%20%23%23%23%0Aprint%28%22la%20lista%20es%3A%20%22%2C%20datos%29%0A%0A%23%23%23%20mostrar%20nombre%20%23%23%23%0Aprint%28%22el%20nombre%20es%3A%22%2C%20datos%5B0%5D%2C%20datos%5B1%5D%29%0A%0A%23%23%23%20mostrar%20direcci%C3%B3n%20%23%23%23%0Aprint%28%22la%20direcci%C3%B3n%20es%3A%22%2C%20datos%5B4%5D%29%0A&origin=opt-frontend.js&cumulative=false&heapPrimitives=false&textReferences=false&curInstr=0&&verticalStack=false&py=3&rawInputLstJSON=%5B%5D&codeDivWidth=50%25&codeDivHeight=100%25\"\n",
              "            frameborder=\"0\"\n",
              "            allowfullscreen\n",
              "            \n",
              "        ></iframe>\n",
              "        "
            ]
          },
          "metadata": {}
        }
      ]
    },
    {
      "cell_type": "code",
      "source": [
        "### operaciones entre listas ###\n",
        "%%tutor --lang python3 -s\n",
        "\n",
        "### listas ###\n",
        "l_1 = [\"Samuel\", \"Castillo\", \"Gaviria\"]\n",
        "l_2 = [\"universidad nacional\", \"semestre 4\"]\n",
        "\n",
        "### mostrar listas ###\n",
        "print(\"la lista 1 es:\", l_1)\n",
        "print(\"la lista 2 es:\", l_2)\n",
        "\n",
        "### agregar elemento a lista ###\n",
        "l_1 = l_1 + [\"dirección\"]\n",
        "\n",
        "### mostrar nueva l_1 ###\n",
        "print(\"la nueva lista 1 es:\", l_1)\n",
        "\n",
        "### combinar lisas ###\n",
        "l_3 = l_1 + l_2\n",
        "\n",
        "### mostrar l_3 ###\n",
        "print(\"la nueva lista compuesta es:\", l_3)\n",
        "\n",
        "### determinado objeto de l_3 ###\n",
        "print(\"el semestre en el que está es:\", l_3[5])"
      ],
      "metadata": {
        "colab": {
          "base_uri": "https://localhost:8080/",
          "height": 426
        },
        "id": "89Y6wH_c00Od",
        "outputId": "b5ccf972-33df-4b2d-e1c1-7540f73798ed"
      },
      "execution_count": 25,
      "outputs": [
        {
          "output_type": "stream",
          "name": "stderr",
          "text": [
            "/usr/local/lib/python3.10/dist-packages/ipykernel/ipkernel.py:283: DeprecationWarning: `should_run_async` will not call `transform_cell` automatically in the future. Please pass the result to `transformed_cell` argument and any exception that happen during thetransform in `preprocessing_exc_tuple` in IPython 7.17 and above.\n",
            "  and should_run_async(code)\n"
          ]
        },
        {
          "output_type": "display_data",
          "data": {
            "text/plain": [
              "<IPython.lib.display.IFrame at 0x7e373485ea10>"
            ],
            "text/html": [
              "\n",
              "        <iframe\n",
              "            width=\"100%\"\n",
              "            height=\"350\"\n",
              "            src=\"https://pythontutor.com/iframe-embed.html#code=%0A%23%23%23%20listas%20%23%23%23%0Al_1%20%3D%20%5B%22Samuel%22%2C%20%22Castillo%22%2C%20%22Gaviria%22%5D%0Al_2%20%3D%20%5B%22universidad%20nacional%22%2C%20%22semestre%204%22%5D%0A%0A%23%23%23%20mostrar%20listas%20%23%23%23%0Aprint%28%22la%20lista%201%20es%3A%22%2C%20l_1%29%0Aprint%28%22la%20lista%202%20es%3A%22%2C%20l_2%29%0A%0A%23%23%23%20agregar%20elemento%20a%20lista%20%23%23%23%0Al_1%20%3D%20l_1%20%2B%20%5B%22direcci%C3%B3n%22%5D%0A%0A%23%23%23%20mostrar%20nueva%20l_1%20%23%23%23%0Aprint%28%22la%20nueva%20lista%201%20es%3A%22%2C%20l_1%29%0A%0A%23%23%23%20combinar%20lisas%20%23%23%23%0Al_3%20%3D%20l_1%20%2B%20l_2%0A%0A%23%23%23%20mostrar%20l_3%20%23%23%23%0Aprint%28%22la%20nueva%20lista%20compuesta%20es%3A%22%2C%20l_3%29%0A%0A%23%23%23%20determinado%20objeto%20de%20l_3%20%23%23%23%0Aprint%28%22el%20semestre%20en%20el%20que%20est%C3%A1%20es%3A%22%2C%20l_3%5B5%5D%29%0A&origin=opt-frontend.js&cumulative=false&heapPrimitives=false&textReferences=false&curInstr=0&&verticalStack=false&py=3&rawInputLstJSON=%5B%5D&codeDivWidth=50%25&codeDivHeight=100%25\"\n",
              "            frameborder=\"0\"\n",
              "            allowfullscreen\n",
              "            \n",
              "        ></iframe>\n",
              "        "
            ]
          },
          "metadata": {}
        }
      ]
    },
    {
      "cell_type": "code",
      "source": [
        "import math\n",
        "\n",
        "a = float(input(\"ingrese a:\"))\n",
        "\n",
        "b = math.sqrt(a)\n",
        "\n",
        "print(\"la raíz cuadrada de\", a , \"es:\", b)"
      ],
      "metadata": {
        "colab": {
          "base_uri": "https://localhost:8080/"
        },
        "id": "7MHxrsne3Qf9",
        "outputId": "767bf45b-ecb0-4da3-8fce-0785a7f5c5d5"
      },
      "execution_count": 27,
      "outputs": [
        {
          "output_type": "stream",
          "name": "stderr",
          "text": [
            "/usr/local/lib/python3.10/dist-packages/ipykernel/ipkernel.py:283: DeprecationWarning: `should_run_async` will not call `transform_cell` automatically in the future. Please pass the result to `transformed_cell` argument and any exception that happen during thetransform in `preprocessing_exc_tuple` in IPython 7.17 and above.\n",
            "  and should_run_async(code)\n"
          ]
        },
        {
          "output_type": "stream",
          "name": "stdout",
          "text": [
            "ingrese a:4\n",
            "la raíz cuadrada de 4.0 es: 2.0\n"
          ]
        }
      ]
    },
    {
      "cell_type": "code",
      "source": [
        "%%tutor --lang python3 -s\n",
        "### diccionario ###\n",
        "d_1 = {\"nombre\": \"Samuel\" , \"apellido\": \"Castillo\", \"profesión\": \"estudiante\"}\n",
        "\n",
        "### contenido diccionario ###\n",
        "print(\"el diccionario 1 es:\", d_1)\n",
        "\n",
        "### mostrar objeto ###\n",
        "print(\"el nombre de la persona del diccionario es:\", d_1[\"nombre\"])\n",
        "\n",
        "### mostrar objetos ###\n",
        "print(\"el nombre completo y la profesión de la persona del diccionario es:\", d_1[\"nombre\"], d_1[\"apellido\"], \"-\", d_1[\"profesión\"])"
      ],
      "metadata": {
        "colab": {
          "base_uri": "https://localhost:8080/",
          "height": 426
        },
        "id": "zEXSK9EG4JCq",
        "outputId": "2c536542-7516-4ce1-dc33-5b4106077335"
      },
      "execution_count": 32,
      "outputs": [
        {
          "output_type": "stream",
          "name": "stderr",
          "text": [
            "/usr/local/lib/python3.10/dist-packages/ipykernel/ipkernel.py:283: DeprecationWarning: `should_run_async` will not call `transform_cell` automatically in the future. Please pass the result to `transformed_cell` argument and any exception that happen during thetransform in `preprocessing_exc_tuple` in IPython 7.17 and above.\n",
            "  and should_run_async(code)\n"
          ]
        },
        {
          "output_type": "display_data",
          "data": {
            "text/plain": [
              "<IPython.lib.display.IFrame at 0x7e3734780430>"
            ],
            "text/html": [
              "\n",
              "        <iframe\n",
              "            width=\"100%\"\n",
              "            height=\"350\"\n",
              "            src=\"https://pythontutor.com/iframe-embed.html#code=%23%23%23%20diccionario%20%23%23%23%0Ad_1%20%3D%20%7B%22nombre%22%3A%20%22Samuel%22%20%2C%20%22apellido%22%3A%20%22Castillo%22%2C%20%22profesi%C3%B3n%22%3A%20%22estudiante%22%7D%0A%0A%23%23%23%20contenido%20diccionario%20%23%23%23%0Aprint%28%22el%20diccionario%201%20es%3A%22%2C%20d_1%29%0A%0A%23%23%23%20mostrar%20objeto%20%23%23%23%0Aprint%28%22el%20nombre%20de%20la%20persona%20del%20diccionario%20es%3A%22%2C%20d_1%5B%22nombre%22%5D%29%0A%0A%23%23%23%20mostrar%20objetos%20%23%23%23%0Aprint%28%22el%20nombre%20completo%20y%20la%20profesi%C3%B3n%20de%20la%20persona%20del%20diccionario%20es%3A%22%2C%20d_1%5B%22nombre%22%5D%2C%20d_1%5B%22apellido%22%5D%2C%20%22-%22%2C%20d_1%5B%22profesi%C3%B3n%22%5D%29%0A&origin=opt-frontend.js&cumulative=false&heapPrimitives=false&textReferences=false&curInstr=0&&verticalStack=false&py=3&rawInputLstJSON=%5B%5D&codeDivWidth=50%25&codeDivHeight=100%25\"\n",
              "            frameborder=\"0\"\n",
              "            allowfullscreen\n",
              "            \n",
              "        ></iframe>\n",
              "        "
            ]
          },
          "metadata": {}
        }
      ]
    },
    {
      "cell_type": "code",
      "source": [
        "%%tutor --lang python3 -s\n",
        "### condiciones ###\n",
        "n = float(input(\"ingrese la nota obtenida:\"))\n",
        "\n",
        "### condición###\n",
        "if n < 3 : print(\"perdiste\")\n",
        "else: print(\"ganaste\")"
      ],
      "metadata": {
        "colab": {
          "base_uri": "https://localhost:8080/",
          "height": 426
        },
        "id": "aTp8glkl8N8A",
        "outputId": "645abe4f-fecf-4dd0-94ae-5b41bf7d0338"
      },
      "execution_count": 36,
      "outputs": [
        {
          "output_type": "stream",
          "name": "stderr",
          "text": [
            "/usr/local/lib/python3.10/dist-packages/ipykernel/ipkernel.py:283: DeprecationWarning: `should_run_async` will not call `transform_cell` automatically in the future. Please pass the result to `transformed_cell` argument and any exception that happen during thetransform in `preprocessing_exc_tuple` in IPython 7.17 and above.\n",
            "  and should_run_async(code)\n"
          ]
        },
        {
          "output_type": "display_data",
          "data": {
            "text/plain": [
              "<IPython.lib.display.IFrame at 0x7e37347804c0>"
            ],
            "text/html": [
              "\n",
              "        <iframe\n",
              "            width=\"100%\"\n",
              "            height=\"350\"\n",
              "            src=\"https://pythontutor.com/iframe-embed.html#code=%23%23%23%20condiciones%20%23%23%23%0An%20%3D%20float%28input%28%22ingrese%20la%20nota%20obtenida%3A%22%29%29%0A%0A%23%23%23%20condici%C3%B3n%23%23%23%0Aif%20n%20%3C%203%20%3A%20print%28%22perdiste%22%29%0Aelse%3A%20print%28%22ganaste%22%29%0A&origin=opt-frontend.js&cumulative=false&heapPrimitives=false&textReferences=false&curInstr=0&&verticalStack=false&py=3&rawInputLstJSON=%5B%5D&codeDivWidth=50%25&codeDivHeight=100%25\"\n",
              "            frameborder=\"0\"\n",
              "            allowfullscreen\n",
              "            \n",
              "        ></iframe>\n",
              "        "
            ]
          },
          "metadata": {}
        }
      ]
    },
    {
      "cell_type": "markdown",
      "source": [
        "itineración definida\n",
        "\n",
        "(contar cierto rango de números)"
      ],
      "metadata": {
        "id": "cwA9-5Qa_yRc"
      }
    },
    {
      "cell_type": "code",
      "source": [
        "# la primera línea activa el tutor magic para el ejemplo específico\n",
        "%%tutor --lang python3 -s\n",
        "\n",
        "# programa que imprime una serie de números por medio de una iteración definida\n",
        "\n",
        "for h in range(5):\n",
        "  print(h)"
      ],
      "metadata": {
        "colab": {
          "base_uri": "https://localhost:8080/",
          "height": 426
        },
        "id": "p7sLHSDW_hx5",
        "outputId": "08a49c4e-4aec-4353-fed5-bdb22a448517"
      },
      "execution_count": 37,
      "outputs": [
        {
          "output_type": "stream",
          "name": "stderr",
          "text": [
            "/usr/local/lib/python3.10/dist-packages/ipykernel/ipkernel.py:283: DeprecationWarning: `should_run_async` will not call `transform_cell` automatically in the future. Please pass the result to `transformed_cell` argument and any exception that happen during thetransform in `preprocessing_exc_tuple` in IPython 7.17 and above.\n",
            "  and should_run_async(code)\n"
          ]
        },
        {
          "output_type": "display_data",
          "data": {
            "text/plain": [
              "<IPython.lib.display.IFrame at 0x7e3734780ca0>"
            ],
            "text/html": [
              "\n",
              "        <iframe\n",
              "            width=\"100%\"\n",
              "            height=\"350\"\n",
              "            src=\"https://pythontutor.com/iframe-embed.html#code=%0A%23%20programa%20que%20imprime%20una%20serie%20de%20n%C3%BAmeros%20por%20medio%20de%20una%20iteraci%C3%B3n%20definida%0A%0Afor%20h%20in%20range%285%29%3A%0A%20%20print%28h%29%0A&origin=opt-frontend.js&cumulative=false&heapPrimitives=false&textReferences=false&curInstr=0&&verticalStack=false&py=3&rawInputLstJSON=%5B%5D&codeDivWidth=50%25&codeDivHeight=100%25\"\n",
              "            frameborder=\"0\"\n",
              "            allowfullscreen\n",
              "            \n",
              "        ></iframe>\n",
              "        "
            ]
          },
          "metadata": {}
        }
      ]
    },
    {
      "cell_type": "markdown",
      "source": [
        "itineración indefinida\n",
        "\n",
        "(contar con cierto parámetro hasta una condición)"
      ],
      "metadata": {
        "id": "Se6LWftd_5oQ"
      }
    },
    {
      "cell_type": "code",
      "source": [
        "# la primera línea activa el tutor magic para el ejemplo específico\n",
        "%%tutor --lang python3 -s\n",
        "\n",
        "# programa que imprime una serie de números por medio de una iteración indefinida\n",
        "\n",
        "contador = 0\n",
        "\n",
        "while contador < 8:\n",
        "  print(\"El valor de contador es:\", contador)\n",
        "  contador = contador + 1"
      ],
      "metadata": {
        "colab": {
          "base_uri": "https://localhost:8080/",
          "height": 426
        },
        "id": "hmNfVIcA_-fQ",
        "outputId": "6b7c99a5-4d33-46e5-8782-c89a9aca56ca"
      },
      "execution_count": 38,
      "outputs": [
        {
          "output_type": "stream",
          "name": "stderr",
          "text": [
            "/usr/local/lib/python3.10/dist-packages/ipykernel/ipkernel.py:283: DeprecationWarning: `should_run_async` will not call `transform_cell` automatically in the future. Please pass the result to `transformed_cell` argument and any exception that happen during thetransform in `preprocessing_exc_tuple` in IPython 7.17 and above.\n",
            "  and should_run_async(code)\n"
          ]
        },
        {
          "output_type": "display_data",
          "data": {
            "text/plain": [
              "<IPython.lib.display.IFrame at 0x7e3734783ac0>"
            ],
            "text/html": [
              "\n",
              "        <iframe\n",
              "            width=\"100%\"\n",
              "            height=\"350\"\n",
              "            src=\"https://pythontutor.com/iframe-embed.html#code=%0A%23%20programa%20que%20imprime%20una%20serie%20de%20n%C3%BAmeros%20por%20medio%20de%20una%20iteraci%C3%B3n%20indefinida%0A%0Acontador%20%3D%200%0A%0Awhile%20contador%20%3C%208%3A%0A%20%20print%28%22El%20valor%20de%20contador%20es%3A%22%2C%20contador%29%0A%20%20contador%20%3D%20contador%20%2B%201%0A&origin=opt-frontend.js&cumulative=false&heapPrimitives=false&textReferences=false&curInstr=0&&verticalStack=false&py=3&rawInputLstJSON=%5B%5D&codeDivWidth=50%25&codeDivHeight=100%25\"\n",
              "            frameborder=\"0\"\n",
              "            allowfullscreen\n",
              "            \n",
              "        ></iframe>\n",
              "        "
            ]
          },
          "metadata": {}
        }
      ]
    },
    {
      "cell_type": "markdown",
      "source": [
        "Función esteril"
      ],
      "metadata": {
        "id": "Qt9mPpVCIp1h"
      }
    },
    {
      "cell_type": "code",
      "source": [
        "# la primera línea activa el tutor magic para el ejemplo específico\n",
        "%%tutor --lang python3 -s\n",
        "\n",
        "# programa que define e invoca una función \"estéril\"\n",
        "\n",
        "# creación de una función\n",
        "def imprime(c):\n",
        "  '''función que imprime un valor'''\n",
        "  print(c)\n",
        "\n",
        "# invocar la función con un texto\n",
        "imprime(\"Toro ese llanto por nara\")\n",
        "\n",
        "a = 5\n",
        "b = 3\n",
        "\n",
        "#invocar la función con una operación\n",
        "imprime(a+b)\n",
        "\n",
        "imprime(a*b)\n",
        "\n",
        "# la función help permite conocer el contenido de un objeto en Python\n",
        "help(imprime)"
      ],
      "metadata": {
        "colab": {
          "base_uri": "https://localhost:8080/",
          "height": 426
        },
        "id": "rwcOSXcaIrKO",
        "outputId": "6f953e19-3a15-458d-8a54-b0bc34dee594"
      },
      "execution_count": 39,
      "outputs": [
        {
          "output_type": "stream",
          "name": "stderr",
          "text": [
            "/usr/local/lib/python3.10/dist-packages/ipykernel/ipkernel.py:283: DeprecationWarning: `should_run_async` will not call `transform_cell` automatically in the future. Please pass the result to `transformed_cell` argument and any exception that happen during thetransform in `preprocessing_exc_tuple` in IPython 7.17 and above.\n",
            "  and should_run_async(code)\n"
          ]
        },
        {
          "output_type": "display_data",
          "data": {
            "text/plain": [
              "<IPython.lib.display.IFrame at 0x7e3734780070>"
            ],
            "text/html": [
              "\n",
              "        <iframe\n",
              "            width=\"100%\"\n",
              "            height=\"350\"\n",
              "            src=\"https://pythontutor.com/iframe-embed.html#code=%0A%23%20programa%20que%20define%20e%20invoca%20una%20funci%C3%B3n%20%22est%C3%A9ril%22%0A%0A%23%20creaci%C3%B3n%20de%20una%20funci%C3%B3n%0Adef%20imprime%28c%29%3A%0A%20%20%27%27%27funci%C3%B3n%20que%20imprime%20un%20valor%27%27%27%0A%20%20print%28c%29%0A%0A%23%20invocar%20la%20funci%C3%B3n%20con%20un%20texto%0Aimprime%28%22Toro%20ese%20llanto%20por%20nara%22%29%0A%0Aa%20%3D%205%0Ab%20%3D%203%0A%0A%23invocar%20la%20funci%C3%B3n%20con%20una%20operaci%C3%B3n%0Aimprime%28a%2Bb%29%0A%0Aimprime%28a%2Ab%29%0A%0A%23%20la%20funci%C3%B3n%20help%20permite%20conocer%20el%20contenido%20de%20un%20objeto%20en%20Python%0Ahelp%28imprime%29%0A&origin=opt-frontend.js&cumulative=false&heapPrimitives=false&textReferences=false&curInstr=0&&verticalStack=false&py=3&rawInputLstJSON=%5B%5D&codeDivWidth=50%25&codeDivHeight=100%25\"\n",
              "            frameborder=\"0\"\n",
              "            allowfullscreen\n",
              "            \n",
              "        ></iframe>\n",
              "        "
            ]
          },
          "metadata": {}
        }
      ]
    },
    {
      "cell_type": "markdown",
      "source": [
        "Funciones fértiles\n",
        "\n",
        "(área de un cuadrado, en función del lado)"
      ],
      "metadata": {
        "id": "xV-_43y-JM6Y"
      }
    },
    {
      "cell_type": "code",
      "source": [
        "# la primera línea activa el tutor magic para el ejemplo específico\n",
        "%%tutor --lang python3 -s\n",
        "\n",
        "# programa que define e invoca una función \"fértil\"\n",
        "\n",
        "def areaCua(lado):\n",
        "  '''función que eleva un argumento al cuadrado y devuelve su valor'''\n",
        "  ac = lado ** 2\n",
        "  return ac\n",
        "\n",
        "# innova la función areaCua y guarda el valor en una variable\n",
        "areaCuadrado = areaCua(6)\n",
        "\n",
        "print(\"El área del cuadrado es:\", areaCuadrado)\n",
        "\n",
        "# la función help permite conocer el contenido de un objeto en Python\n",
        "help(areaCua)"
      ],
      "metadata": {
        "colab": {
          "base_uri": "https://localhost:8080/",
          "height": 426
        },
        "id": "2aErvu6vJPQx",
        "outputId": "967d5cb6-cafd-4184-d5b8-93063b32968d"
      },
      "execution_count": 40,
      "outputs": [
        {
          "output_type": "stream",
          "name": "stderr",
          "text": [
            "/usr/local/lib/python3.10/dist-packages/ipykernel/ipkernel.py:283: DeprecationWarning: `should_run_async` will not call `transform_cell` automatically in the future. Please pass the result to `transformed_cell` argument and any exception that happen during thetransform in `preprocessing_exc_tuple` in IPython 7.17 and above.\n",
            "  and should_run_async(code)\n"
          ]
        },
        {
          "output_type": "display_data",
          "data": {
            "text/plain": [
              "<IPython.lib.display.IFrame at 0x7e37347800d0>"
            ],
            "text/html": [
              "\n",
              "        <iframe\n",
              "            width=\"100%\"\n",
              "            height=\"350\"\n",
              "            src=\"https://pythontutor.com/iframe-embed.html#code=%0A%23%20programa%20que%20define%20e%20invoca%20una%20funci%C3%B3n%20%22f%C3%A9rtil%22%0A%0Adef%20areaCua%28lado%29%3A%0A%20%20%27%27%27funci%C3%B3n%20que%20eleva%20un%20argumento%20al%20cuadrado%20y%20devuelve%20su%20valor%27%27%27%0A%20%20ac%20%3D%20lado%20%2A%2A%202%0A%20%20return%20ac%0A%0A%23%20innova%20la%20funci%C3%B3n%20areaCua%20y%20guarda%20el%20valor%20en%20una%20variable%0AareaCuadrado%20%3D%20areaCua%286%29%20%0A%0Aprint%28%22El%20%C3%A1rea%20del%20cuadrado%20es%3A%22%2C%20areaCuadrado%29%0A%0A%23%20la%20funci%C3%B3n%20help%20permite%20conocer%20el%20contenido%20de%20un%20objeto%20en%20Python%0Ahelp%28areaCua%29%0A&origin=opt-frontend.js&cumulative=false&heapPrimitives=false&textReferences=false&curInstr=0&&verticalStack=false&py=3&rawInputLstJSON=%5B%5D&codeDivWidth=50%25&codeDivHeight=100%25\"\n",
              "            frameborder=\"0\"\n",
              "            allowfullscreen\n",
              "            \n",
              "        ></iframe>\n",
              "        "
            ]
          },
          "metadata": {}
        }
      ]
    },
    {
      "cell_type": "markdown",
      "source": [
        "Controlar errores"
      ],
      "metadata": {
        "id": "XdnSLuG0J-n9"
      }
    },
    {
      "cell_type": "code",
      "source": [
        "# la primera línea activa el tutor magic para el ejemplo específico\n",
        "%%tutor --lang python3 -s\n",
        "\n",
        "# programa que gestiona un error de ejecución por medio de la instrucción try/except\n",
        "\n",
        "try:\n",
        "  numeroA = \"hola\"\n",
        "  respuesta = numeroA ** 2\n",
        "  print (respuesta)\n",
        "\n",
        "except Exception:\n",
        "  print(\"Tenemos problemas. Es hora de revisar el código.\")\n",
        "\n",
        "print (\"Conserva la calma. Todo funciona bien.\")"
      ],
      "metadata": {
        "colab": {
          "base_uri": "https://localhost:8080/",
          "height": 426
        },
        "id": "HwIiUa8UJ_1T",
        "outputId": "e887c09e-ec61-4354-a207-44127d4835c7"
      },
      "execution_count": 41,
      "outputs": [
        {
          "output_type": "stream",
          "name": "stderr",
          "text": [
            "/usr/local/lib/python3.10/dist-packages/ipykernel/ipkernel.py:283: DeprecationWarning: `should_run_async` will not call `transform_cell` automatically in the future. Please pass the result to `transformed_cell` argument and any exception that happen during thetransform in `preprocessing_exc_tuple` in IPython 7.17 and above.\n",
            "  and should_run_async(code)\n"
          ]
        },
        {
          "output_type": "display_data",
          "data": {
            "text/plain": [
              "<IPython.lib.display.IFrame at 0x7e3734781b70>"
            ],
            "text/html": [
              "\n",
              "        <iframe\n",
              "            width=\"100%\"\n",
              "            height=\"350\"\n",
              "            src=\"https://pythontutor.com/iframe-embed.html#code=%0A%23%20programa%20que%20gestiona%20un%20error%20de%20ejecuci%C3%B3n%20por%20medio%20de%20la%20instrucci%C3%B3n%20try/except%0A%0Atry%3A%0A%20%20numeroA%20%3D%20%22hola%22%0A%20%20respuesta%20%3D%20numeroA%20%2A%2A%202%0A%20%20print%20%28respuesta%29%0A%0Aexcept%20Exception%3A%0A%20%20print%28%22Tenemos%20problemas.%20Es%20hora%20de%20revisar%20el%20c%C3%B3digo.%22%29%0A%0Aprint%20%28%22Conserva%20la%20calma.%20Todo%20funciona%20bien.%22%29%0A&origin=opt-frontend.js&cumulative=false&heapPrimitives=false&textReferences=false&curInstr=0&&verticalStack=false&py=3&rawInputLstJSON=%5B%5D&codeDivWidth=50%25&codeDivHeight=100%25\"\n",
              "            frameborder=\"0\"\n",
              "            allowfullscreen\n",
              "            \n",
              "        ></iframe>\n",
              "        "
            ]
          },
          "metadata": {}
        }
      ]
    }
  ]
}